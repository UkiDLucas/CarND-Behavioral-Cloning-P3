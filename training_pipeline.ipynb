{
 "cells": [
  {
   "cell_type": "markdown",
   "metadata": {
    "deletable": true,
    "editable": true
   },
   "source": [
    "# Train Model\n",
    "\n"
   ]
  },
  {
   "cell_type": "markdown",
   "metadata": {
    "deletable": true,
    "editable": true
   },
   "source": [
    "## Set parameters that will control the execution"
   ]
  },
  {
   "cell_type": "code",
   "execution_count": null,
   "metadata": {
    "collapsed": false,
    "deletable": true,
    "editable": true
   },
   "outputs": [],
   "source": [
    "DATA_DIR = \"../_DATA/CarND/p3_behavioral_cloning/set_000/\"\n",
    "image_dir = \"IMG/\"\n",
    "driving_data_csv = \"driving_log_original.csv\"\n",
    "YIELD_BATCH_SIZE = 8\n",
    "RUN_EPOCHS = 3 \n",
    "\n",
    "should_retrain_existing_model = False\n",
    "SAVED_MODEL = \"model_epoch_5_val_acc_0.543157893482.h5\"\n",
    "RUN_EPOCHS_PREVIOUSLY = 0\n",
    "\n",
    "!pwd"
   ]
  },
  {
   "cell_type": "code",
   "execution_count": null,
   "metadata": {
    "collapsed": false,
    "deletable": true,
    "editable": true
   },
   "outputs": [],
   "source": [
    "import DataHelper"
   ]
  },
  {
   "cell_type": "markdown",
   "metadata": {
    "deletable": true,
    "editable": true
   },
   "source": [
    "# Allocate only a fraction of memory to TensorFlow GPU process"
   ]
  },
  {
   "cell_type": "code",
   "execution_count": null,
   "metadata": {
    "collapsed": false,
    "deletable": true,
    "editable": true
   },
   "outputs": [],
   "source": [
    "# https://github.com/aymericdamien/TensorFlow-Examples/issues/38#issuecomment-265599695\n",
    "import tensorflow as tf\n",
    "\n",
    "# Running out of GPU memory on Mac\n",
    "# InternalError: Dst tensor is not initialized.\n",
    "gpu_options = tf.GPUOptions(per_process_gpu_memory_fraction=0.9) # try range from 0.3 to 0.9\n",
    "sess = tf.Session(config=tf.ConfigProto(log_device_placement=True, gpu_options=gpu_options))\n",
    "\n",
    "#### Show available CPU and GPU(s)\n",
    "from tensorflow.python.client import device_lib\n",
    "def get_available_CPU_GPU():\n",
    "    devices = device_lib.list_local_devices()\n",
    "    #return [x.name for x in devices if x.device_type == 'CPU']\n",
    "    return [x.name for x in devices ]\n",
    "\n",
    "print(get_available_CPU_GPU())"
   ]
  },
  {
   "cell_type": "markdown",
   "metadata": {
    "deletable": true,
    "editable": true
   },
   "source": [
    "# Fetch data from CSV file"
   ]
  },
  {
   "cell_type": "code",
   "execution_count": null,
   "metadata": {
    "collapsed": false,
    "deletable": true,
    "editable": true
   },
   "outputs": [],
   "source": [
    "from  DataHelper import read_csv\n",
    "csv_path = DATA_DIR + driving_data_csv\n",
    "print(\"csv_path\", csv_path)\n",
    "headers, data = read_csv(DATA_DIR + driving_data_csv)"
   ]
  },
  {
   "cell_type": "markdown",
   "metadata": {
    "deletable": true,
    "editable": true
   },
   "source": [
    "# Split data into training, testing and validation sets"
   ]
  },
  {
   "cell_type": "code",
   "execution_count": null,
   "metadata": {
    "collapsed": false,
    "deletable": true,
    "editable": true
   },
   "outputs": [],
   "source": [
    "from DataHelper import split_random\n",
    "training, testing, validation = split_random(data, percent_train=75, percent_test=15) \n",
    "\n",
    "print(\"training\", training.shape, type(training) )\n",
    "print(\"testing\", testing.shape, type(training))\n",
    "print(\"validation\", validation.shape, type(training))"
   ]
  },
  {
   "cell_type": "markdown",
   "metadata": {
    "deletable": true,
    "editable": true
   },
   "source": [
    "# Fetch and visualize training steering angles\n",
    "\n",
    "I would like to train a car on the set that has a nice bell curve distribution of values:\n",
    "- I can drive the car on the track backwards\n",
    "- I can flip each image (and value)"
   ]
  },
  {
   "cell_type": "markdown",
   "metadata": {
    "deletable": true,
    "editable": true
   },
   "source": [
    "# Remove zero-steering angles from training set "
   ]
  },
  {
   "cell_type": "code",
   "execution_count": null,
   "metadata": {
    "collapsed": true,
    "deletable": true,
    "editable": true
   },
   "outputs": [],
   "source": [
    "import numpy as np\n",
    "from DataHelper import plot_histogram, get_steering_values, find_nearest"
   ]
  },
  {
   "cell_type": "code",
   "execution_count": null,
   "metadata": {
    "collapsed": false,
    "deletable": true,
    "editable": true,
    "scrolled": false
   },
   "outputs": [],
   "source": [
    "from remove_zero_angles import *\n",
    "training, steering_angles = remove_zero_angles(training[0:500])"
   ]
  },
  {
   "cell_type": "markdown",
   "metadata": {
    "deletable": true,
    "editable": true
   },
   "source": [
    "# Test method that extracts image names"
   ]
  },
  {
   "cell_type": "code",
   "execution_count": null,
   "metadata": {
    "collapsed": false,
    "deletable": true,
    "editable": true
   },
   "outputs": [],
   "source": [
    "from DataHelper import get_image_center_values\n",
    "\n",
    "# TEST THE METHOD\n",
    "image_names = get_image_center_values(training[0:10]) # process only first few\n",
    "print(\"image count:\", image_names.shape[0], \"path:\", image_names[1])"
   ]
  },
  {
   "cell_type": "markdown",
   "metadata": {
    "deletable": true,
    "editable": true
   },
   "source": [
    "# Create a list of image paths"
   ]
  },
  {
   "cell_type": "code",
   "execution_count": null,
   "metadata": {
    "collapsed": false,
    "deletable": true,
    "editable": true
   },
   "outputs": [],
   "source": [
    "from generator import build_image_paths\n",
    "\n",
    "image_paths = build_image_paths(DATA_DIR, image_names)\n",
    "print(image_paths[1]) \n",
    "print(\"found paths:\", len(image_paths) ) "
   ]
  },
  {
   "cell_type": "markdown",
   "metadata": {
    "deletable": true,
    "editable": true
   },
   "source": [
    "# Read actual images"
   ]
  },
  {
   "cell_type": "code",
   "execution_count": null,
   "metadata": {
    "collapsed": false,
    "deletable": true,
    "editable": true
   },
   "outputs": [],
   "source": [
    "from generator import read_images\n",
    "\n",
    "training_features = read_images(image_paths)\n",
    "\n",
    "print (\"image_paths[2]\", image_paths[2] )\n",
    "print (\"training_features count\", len(training_features) )\n",
    "\n",
    "sample_image = training_features[2]\n",
    "print (\"sample_image  \", sample_image.shape)\n",
    "\n",
    "import matplotlib.pyplot as plt\n",
    "plt.imshow(sample_image) # cmap='gray' , cmap='rainbow'\n",
    "plt.show()\n",
    "\n",
    "#print(sample_image[0][0:15])"
   ]
  },
  {
   "cell_type": "markdown",
   "metadata": {
    "deletable": true,
    "editable": true
   },
   "source": [
    "# Import Keras (layer above TensorFlow)\n",
    "\n",
    "https://keras.io/layers/convolutional/"
   ]
  },
  {
   "cell_type": "code",
   "execution_count": null,
   "metadata": {
    "collapsed": true,
    "deletable": true,
    "editable": true
   },
   "outputs": [],
   "source": [
    "import cv2, numpy as np\n",
    "from DataHelper import mean_pred, false_rates\n"
   ]
  },
  {
   "cell_type": "markdown",
   "metadata": {
    "collapsed": true,
    "deletable": true,
    "editable": true
   },
   "source": [
    "# Build a Convolutional Neural Network"
   ]
  },
  {
   "cell_type": "markdown",
   "metadata": {
    "deletable": true,
    "editable": true
   },
   "source": [
    "## Minimal Model"
   ]
  },
  {
   "cell_type": "code",
   "execution_count": null,
   "metadata": {
    "collapsed": false,
    "deletable": true,
    "editable": true
   },
   "outputs": [],
   "source": [
    "from model import * # my own model implementation, in the same directory"
   ]
  },
  {
   "cell_type": "markdown",
   "metadata": {
    "collapsed": true,
    "deletable": true,
    "editable": true
   },
   "source": [
    "# Compile model (configure learning process)\n",
    "\n",
    "Before training a model, you need to configure the learning process, which is done via the compile method."
   ]
  },
  {
   "cell_type": "code",
   "execution_count": null,
   "metadata": {
    "collapsed": false,
    "deletable": true,
    "editable": true
   },
   "outputs": [],
   "source": [
    "model = get_custom_model()\n",
    "model.summary()\n",
    "\n",
    "# keras.optimizers.Adam(lr=0.001, beta_1=0.9, beta_2=0.999, epsilon=1e-08, decay=0.0)\n",
    "optimizer=\"adam\" # 'sgd' | 'rmsprop'\n",
    "loss_function=\"mse\" # | 'binary_crossentropy' | 'mse' | mean_squared_error | sparse_categorical_crossentropy\n",
    "metrics_array=['accuracy'] # , mean_pred, false_rates\n",
    "model.compile(optimizer, loss_function, metrics_array)"
   ]
  },
  {
   "cell_type": "markdown",
   "metadata": {
    "deletable": true,
    "editable": true
   },
   "source": [
    "# Replace model with one stored on disk\n",
    "\n",
    "- If you replace the model, the INPUT dimetions have to be the same as these trained\n",
    "- Name your models well"
   ]
  },
  {
   "cell_type": "raw",
   "metadata": {
    "deletable": true,
    "editable": true
   },
   "source": [
    "from keras.models import load_model\n",
    "\n",
    "if should_retrain_existing_model:\n",
    "    model_path = model_dir + model_to_continue_training\n",
    "    model = load_model(model_path) \n",
    "    model.summary()"
   ]
  },
  {
   "cell_type": "markdown",
   "metadata": {
    "deletable": true,
    "editable": true
   },
   "source": [
    "# Define yield Generator"
   ]
  },
  {
   "cell_type": "code",
   "execution_count": null,
   "metadata": {
    "collapsed": false,
    "deletable": true,
    "editable": true
   },
   "outputs": [],
   "source": [
    "from generator import * # my own implementation of yield generator, same directory\n",
    "\n",
    "train_generator = generator(\"training\", training, DATA_DIR, YIELD_BATCH_SIZE )\n",
    "validation_generator = generator(\"validation\", validation, DATA_DIR, YIELD_BATCH_SIZE )"
   ]
  },
  {
   "cell_type": "markdown",
   "metadata": {
    "deletable": true,
    "editable": true
   },
   "source": [
    "# Train (fit) the model agaist given labels\n",
    "\n",
    "https://keras.io/models/sequential/\n",
    "\n",
    "\n",
    "- initial_epoch: Epoch at which to start training (useful for resuming a previous training run)\n",
    "\n",
    "- The semantics of the Keras 2 argument  `steps_per_epoch` is not the same as the Keras 1 argument `samples_per_epoch`. \n",
    "`steps_per_epoch` is the number of batches to draw from the generator at each epoch. Update your method calls accordingly.\n"
   ]
  },
  {
   "cell_type": "code",
   "execution_count": null,
   "metadata": {
    "collapsed": false,
    "deletable": true,
    "editable": true,
    "scrolled": false
   },
   "outputs": [],
   "source": [
    "history = model.fit_generator(train_generator, \n",
    "                              epochs=RUN_EPOCHS, \n",
    "                              validation_steps = len(validation), #803 \n",
    "                              validation_data = validation_generator, \n",
    "                              verbose = 1, \n",
    "                              steps_per_epoch = len(training) ) #2745"
   ]
  },
  {
   "cell_type": "code",
   "execution_count": null,
   "metadata": {
    "collapsed": false,
    "deletable": true,
    "editable": true
   },
   "outputs": [],
   "source": [
    "# list all data in history\n",
    "print(history.history.keys())\n",
    "\n",
    "index = RUN_EPOCHS - 1\n",
    "\n",
    "training_accuracy = str( history.history['acc'][index])\n",
    "print(\"training_accuracy\", training_accuracy)\n",
    "\n",
    "training_error = str( history.history['loss'][index])\n",
    "print(\"training_error\", training_error)\n",
    "\n",
    "validation_accuracy = str( history.history['val_acc'][index])\n",
    "print(\"validation_accuracy\", validation_accuracy)\n",
    "\n",
    "validation_error = str( history.history['val_loss'][index])\n",
    "print(\"validation_error\", validation_error)"
   ]
  },
  {
   "cell_type": "markdown",
   "metadata": {
    "deletable": true,
    "editable": true
   },
   "source": [
    "# Save the model"
   ]
  },
  {
   "cell_type": "code",
   "execution_count": null,
   "metadata": {
    "collapsed": true,
    "deletable": true,
    "editable": true
   },
   "outputs": [],
   "source": [
    "# creates a HDF5 file '___.h5'\n",
    "model.save(DATA_DIR \n",
    "           + \"model_epoch_\" + str(RUN_EPOCHS + RUN_EPOCHS_PREVIOUSLY) \n",
    "           + \"_val_acc_\" + str(validation_accuracy) \n",
    "           + \".h5\") \n",
    "#del model  # deletes the existing model\n",
    "#model = load_model('my_model.h5')"
   ]
  },
  {
   "cell_type": "markdown",
   "metadata": {
    "deletable": true,
    "editable": true
   },
   "source": [
    "# summarize history for accuracy"
   ]
  },
  {
   "cell_type": "code",
   "execution_count": null,
   "metadata": {
    "collapsed": false,
    "deletable": true,
    "editable": true
   },
   "outputs": [],
   "source": [
    "# summarize history for accuracy\n",
    "plt.plot(history.history['acc'])\n",
    "plt.plot(history.history['val_acc'])\n",
    "plt.title('model accuracy (bigger better)')\n",
    "plt.ylabel('accuracy')\n",
    "plt.xlabel('epoch')\n",
    "plt.legend(['training accuracy', 'testing accuracy'], loc='lower right')\n",
    "plt.show()\n",
    "\n"
   ]
  },
  {
   "cell_type": "markdown",
   "metadata": {
    "deletable": true,
    "editable": true
   },
   "source": [
    "# summarize history for loss"
   ]
  },
  {
   "cell_type": "code",
   "execution_count": null,
   "metadata": {
    "collapsed": false,
    "deletable": true,
    "editable": true
   },
   "outputs": [],
   "source": [
    "\n",
    "plt.plot(history.history['loss'])\n",
    "plt.plot(history.history['val_loss'])\n",
    "plt.title('Validation error (smaller better)')\n",
    "plt.ylabel('error')\n",
    "plt.xlabel('epochs run')\n",
    "plt.legend(['training error(loss)', 'validation error (loss)'], loc='upper right')\n",
    "plt.show()"
   ]
  },
  {
   "cell_type": "markdown",
   "metadata": {
    "deletable": true,
    "editable": true
   },
   "source": [
    "# The the Prediction"
   ]
  },
  {
   "cell_type": "code",
   "execution_count": null,
   "metadata": {
    "collapsed": false,
    "deletable": true,
    "editable": true
   },
   "outputs": [],
   "source": [
    "from keras.models import load_model\n",
    "\n",
    "#model_path = DATA_DIR + SAVED_MODEL\n",
    "#print(model_path)\n",
    "#model = load_model(model_path) \n",
    "model.summary()"
   ]
  },
  {
   "cell_type": "code",
   "execution_count": null,
   "metadata": {
    "collapsed": false,
    "deletable": true,
    "editable": true
   },
   "outputs": [],
   "source": [
    "original_steering_angle = -0.9426954\n",
    "image_path =  DATA_DIR + \"IMG/left_2016_12_01_13_39_28_024.jpg\"\n",
    "print(image_path)\n",
    "\n",
    "from ImageHelper import read_image_array, read_image_binary\n",
    "#image = read_image_array(image_path)\n",
    "image = np.array(read_image_binary(image_path))\n",
    "#print(image.shape)\n",
    "plt.imshow(image, cmap='gray')\n",
    "plt.show()"
   ]
  },
  {
   "cell_type": "markdown",
   "metadata": {
    "deletable": true,
    "editable": true
   },
   "source": [
    "## Run model.predict(image)"
   ]
  },
  {
   "cell_type": "code",
   "execution_count": null,
   "metadata": {
    "collapsed": false,
    "deletable": true,
    "editable": true
   },
   "outputs": [],
   "source": [
    "predictions = model.predict( image[None, :, :], \n",
    "                            batch_size = 1, \n",
    "                            verbose = 1)"
   ]
  },
  {
   "cell_type": "markdown",
   "metadata": {
    "deletable": true,
    "editable": true
   },
   "source": [
    "# Extract top prediction"
   ]
  },
  {
   "cell_type": "code",
   "execution_count": null,
   "metadata": {
    "collapsed": false,
    "deletable": true,
    "editable": true
   },
   "outputs": [],
   "source": [
    "from DataHelper import predict_class\n",
    "\n",
    "percentages = predictions[0]\n",
    "print(\"percentages:\", percentages)\n",
    "print(\"original steering angle:\", original_steering_angle)"
   ]
  },
  {
   "cell_type": "code",
   "execution_count": null,
   "metadata": {
    "collapsed": true,
    "deletable": true,
    "editable": true
   },
   "outputs": [],
   "source": [
    "# Make sound when done\n",
    "import os\n",
    "beep = lambda x: os.system(\"echo -n '\\a';sleep 0.2;\" * x)\n",
    "beep(5)"
   ]
  },
  {
   "cell_type": "code",
   "execution_count": null,
   "metadata": {
    "collapsed": true,
    "deletable": true,
    "editable": true
   },
   "outputs": [],
   "source": [
    "!jupyter nbconvert --to script training_pipeline.ipynb"
   ]
  }
 ],
 "metadata": {
  "anaconda-cloud": {},
  "kernelspec": {
   "display_name": "Python [default]",
   "language": "python",
   "name": "python3"
  },
  "language_info": {
   "codemirror_mode": {
    "name": "ipython",
    "version": 3
   },
   "file_extension": ".py",
   "mimetype": "text/x-python",
   "name": "python",
   "nbconvert_exporter": "python",
   "pygments_lexer": "ipython3",
   "version": "3.5.3"
  }
 },
 "nbformat": 4,
 "nbformat_minor": 2
}
