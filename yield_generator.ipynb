{
 "cells": [
  {
   "cell_type": "code",
   "execution_count": null,
   "metadata": {
    "collapsed": true
   },
   "outputs": [],
   "source": [
    "def yield_generator(training_data, yield_batch_size = 256):\n",
    "    \"\"\"\n",
    "    \n",
    "    \"\"\"\n",
    "    index_start = 0\n",
    "    index_end = yield_batch_size\n",
    "    \n",
    "    while True:\n",
    "        batch_size = 0\n",
    "    \n",
    "        while batch_size < yield_batch_size:\n",
    "            training_subset = training[index_start:index_end]\n",
    "            \n",
    "            steering_batch = get_steering_values(training_subset)\n",
    "            image_center_names = get_image_center_values(training_subset)\n",
    "            image_paths = []\n",
    "            for image_name in image_names:\n",
    "                image_paths.extend([data_dir + image_dir + image_name])\n",
    "    \n",
    "            # prepare for the next set\n",
    "            index_start = index_end\n",
    "            index_end = index_end + yield_batch_size\n",
    "    \n",
    "        yield images_batch, steering_batch"
   ]
  }
 ],
 "metadata": {
  "kernelspec": {
   "display_name": "conda env py352_tf_gpu",
   "language": "python",
   "name": "py352_tf_gpu"
  },
  "language_info": {
   "codemirror_mode": {
    "name": "ipython",
    "version": 3
   },
   "file_extension": ".py",
   "mimetype": "text/x-python",
   "name": "python",
   "nbconvert_exporter": "python",
   "pygments_lexer": "ipython3",
   "version": "3.5.2"
  },
  "widgets": {
   "state": {},
   "version": "1.1.2"
  }
 },
 "nbformat": 4,
 "nbformat_minor": 2
}
