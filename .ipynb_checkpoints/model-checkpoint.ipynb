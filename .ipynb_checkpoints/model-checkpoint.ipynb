{
 "cells": [
  {
   "cell_type": "markdown",
   "metadata": {
    "deletable": true,
    "editable": true
   },
   "source": [
    "# Train Model\n",
    "\n"
   ]
  },
  {
   "cell_type": "markdown",
   "metadata": {},
   "source": [
    "## Set parameters"
   ]
  },
  {
   "cell_type": "code",
   "execution_count": 1,
   "metadata": {
    "collapsed": true
   },
   "outputs": [],
   "source": [
    "data_dir = \"../_DATA/CarND_behavioral_cloning/r_001/\"\n",
    "driving_data_csv = \"driving_log_normalized.csv\"\n",
    "model_dir = \"../_DATA/MODELS/\"\n",
    "model_name = \"model_p3_14x64x3_\"\n",
    "batch_size = 256\n",
    "nb_epoch = 40 \n",
    "model_to_continue_training = \"previous_model.h5\"\n",
    "previous_trained_epochs = 30"
   ]
  },
  {
   "cell_type": "raw",
   "metadata": {
    "collapsed": true,
    "deletable": true,
    "editable": true
   },
   "source": [
    "import os\n",
    "from os.path import normpath, join\n",
    "\n",
    "import scipy\n",
    "from scipy import ndimage\n",
    "from scipy.misc import imresize\n",
    "\n",
    "import sklearn\n",
    "from sklearn.model_selection import train_test_split\n",
    "\n",
    "import keras\n",
    "from keras.preprocessing.image import ImageDataGenerator, array_to_img, img_to_array\n",
    "from keras.models import model_from_json, Sequential\n",
    "from keras.utils import np_utils\n",
    "from keras.layers.advanced_activations import ELU as elu\n",
    "from keras.layers import Flatten, ZeroPadding2D, MaxPooling2D, Activation, Dropout, Convolution2D\n",
    "from keras.layers import Dense, Input, Activation, BatchNormalization, Lambda, ELU\n",
    "from keras.optimizers import Adam\n",
    "from keras.backend import ndim\n",
    "# from keras.utils.visualize_util import plot\n",
    "\n",
    "import csv\n",
    "import cv2\n",
    "import math\n",
    "import json\n",
    "import pickle\n",
    "import random\n",
    "import collections\n",
    "import numpy as np\n",
    "\n",
    "#import pydot\n",
    "\n",
    "import tensorflow as tf\n",
    "from tensorflow.python.framework.ops import convert_to_tensor\n",
    "tf.python.control_flow_ops = tf"
   ]
  },
  {
   "cell_type": "markdown",
   "metadata": {},
   "source": []
  },
  {
   "cell_type": "code",
   "execution_count": 3,
   "metadata": {
    "collapsed": false
   },
   "outputs": [
    {
     "name": "stdout",
     "output_type": "stream",
     "text": [
      "['/cpu:0', '/gpu:0']\n"
     ]
    }
   ],
   "source": [
    "#### Allocate only a fraction of memory to TensorFlow GPU process\n",
    "# https://github.com/aymericdamien/TensorFlow-Examples/issues/38#issuecomment-265599695\n",
    "import tensorflow as tf\n",
    "gpu_options = tf.GPUOptions(per_process_gpu_memory_fraction=0.6) # try range from 0.333 ot .9\n",
    "sess = tf.Session(config=tf.ConfigProto(log_device_placement=True, gpu_options=gpu_options))\n",
    "\n",
    "#### Show available CPU and GPU(s)\n",
    "from tensorflow.python.client import device_lib\n",
    "def get_available_CPU_GPU():\n",
    "    devices = device_lib.list_local_devices()\n",
    "    #return [x.name for x in devices if x.device_type == 'CPU']\n",
    "    return [x.name for x in devices ]\n",
    "\n",
    "print(get_available_CPU_GPU())"
   ]
  },
  {
   "cell_type": "code",
   "execution_count": null,
   "metadata": {
    "collapsed": true
   },
   "outputs": [],
   "source": []
  }
 ],
 "metadata": {
  "kernelspec": {
   "display_name": "conda env py352_tf_gpu",
   "language": "python",
   "name": "py352_tf_gpu"
  },
  "language_info": {
   "codemirror_mode": {
    "name": "ipython",
    "version": 3
   },
   "file_extension": ".py",
   "mimetype": "text/x-python",
   "name": "python",
   "nbconvert_exporter": "python",
   "pygments_lexer": "ipython3",
   "version": "3.5.2"
  },
  "widgets": {
   "state": {},
   "version": "1.1.2"
  }
 },
 "nbformat": 4,
 "nbformat_minor": 2
}
